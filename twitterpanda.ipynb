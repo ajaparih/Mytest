import json
import pandas as pd
%matplotlib inline
import matplotlib.pyplot as plt
import re

tweets_data_path = 'hacks.txt'

tweets_data = []
tweets_file = open(tweets_data_path, "r")
for line in tweets_file:
    try:
        tweet = json.loads(line)
        tweets_data.append(tweet)
    except:
        continue
        
print len(tweets_data)
tweets = pd.DataFrame()
tweets['text'] = map(lambda tweet: tweet['text'], tweets_data)
tweets['lang'] = map(lambda tweet: tweet['lang'], tweets_data)
tweets['country'] = map(lambda tweet: tweet['place']['country'] if tweet['place'] != None else None, tweets_data)

tweets_by_lang = tweets['lang'].value_counts()

fig,ax = plt.subplots()
ax.tick_params(axis='x', labelsize=15)
ax.tick_params(axis='y', labelsize=10)
ax.set_xlabel('Languages', fontsize=15)
ax.set_ylabel('Number of tweets' , fontsize=15)
ax.set_title('Top 5 languages', fontsize=15, fontweight='bold')
tweets_by_lang[:5].plot(ax=ax, kind='bar', color='red')
plt.show()

#tweets_by_country = tweets['country'].value_counts()

#fig, ax = plt.subplots()
#ax.tick_params(axis='x', labelsize=15)
#ax.tick_params(axis='y', labelsize=10)
#ax.set_xlabel('Countries', fontsize=15)
#ax.set_ylabel('Number of tweets' , fontsize=15)
#ax.set_title('Top 5 countries', fontsize=15, fontweight='bold')
#tweets_by_country[:5].plot(ax=ax, kind='bar', color='blue')
#plt.show()


def word_in_text(word, text):
    word = word.lower()
    text = text.lower()
    match = re.search(word, text)
    if match:
        return True
    return False

tweets['ransomware'] = tweets['text'].apply(lambda tweet: word_in_text('ransomware', tweet))
tweets['malware'] = tweets['text'].apply(lambda tweet: word_in_text('malware', tweet))
tweets['ddos'] = tweets['text'].apply(lambda tweet: word_in_text('ddos', tweet))

print tweets['ransomware'].value_counts()[True]
print tweets['malware'].value_counts()[True]
print tweets['ddos'].value_counts()[True]

prg_langs = ['ransomware', 'malware', 'ddos']
tweets_by_prg_lang = [tweets['ransomware'].value_counts()[True], tweets['malware'].value_counts()[True], tweets['ddos'].value_counts()[True]]

x_pos = list(range(len(prg_langs)))
width = 0.8
fig, ax = plt.subplots()
plt.bar(x_pos, tweets_by_prg_lang, width, alpha=1, color='g')



# Setting axis labels and ticks
ax.set_ylabel('Number of tweets', fontsize=15)
ax.set_title('Ranking: ransomware vs. malware vs. ddos (Raw data)', fontsize=10, fontweight='bold')
ax.set_xticks([p + 0.4 * width for p in x_pos])
ax.set_xticklabels(prg_langs)
plt.grid()

#find relevant data
tweets['NSA'] = tweets['text'].apply(lambda tweet: word_in_text('NSA', tweet))
tweets['CIA'] = tweets['text'].apply(lambda tweet: word_in_text('CIA', tweet))


tweets['relevant'] = tweets['text'].apply(lambda tweet: word_in_text('NSA', tweet) or word_in_text('CIA', tweet))


print tweets['hack'].value_counts()[True]
print tweets['hacker'].value_counts()[True]
print tweets['relevant'].value_counts()[True]

print tweets[tweets['relevant'] == True]['ransomware'].value_counts()[True]
print tweets[tweets['relevant'] == True]['malware'].value_counts()[True]
print tweets[tweets['relevant'] == True]['ddos'].value_counts()[True]





tweets_by_prg_lang = [tweets[tweets['relevant'] == True]['ransomware'].value_counts()[True], 
                      tweets[tweets['relevant'] == True]['malware'].value_counts()[True], 
                      tweets[tweets['relevant'] == True]['ddos'].value_counts()[True]]
x_pos = list(range(len(prg_langs)))
width = 0.8
fig, ax = plt.subplots()
plt.bar(x_pos, tweets_by_prg_lang, width,alpha=1,color='g')
ax.set_ylabel('Number of tweets', fontsize=15)
ax.set_title('Ranking: ransomware vs. malware vs. ddos (Relevant data)', fontsize=10, fontweight='bold')
ax.set_xticks([p + 0.4 * width for p in x_pos])
ax.set_xticklabels(prg_langs)
plt.grid()

def extract_link(text):
    regex = r'https?://[^\s<>"]+|www\.[^\s<>"]+'
    match = re.search(regex, text)
    if match:
        return match.group()
    return ''

tweets['link'] = tweets['text'].apply(lambda tweet: extract_link(tweet))

tweets_relevant = tweets[tweets['relevant'] == True]
tweets_relevant_with_link = tweets_relevant[tweets_relevant['link'] != '']

print tweets_relevant_with_link[tweets_relevant_with_link['ransomware'] == True]['link']
print tweets_relevant_with_link[tweets_relevant_with_link['malware'] == True]['link']
print tweets_relevant_with_link[tweets_relevant_with_link['ddos'] == True]['link']




